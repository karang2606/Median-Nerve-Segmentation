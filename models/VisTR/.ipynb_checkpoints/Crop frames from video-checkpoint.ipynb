{
 "cells": [
  {
   "cell_type": "code",
   "execution_count": 1,
   "id": "229e4abd",
   "metadata": {},
   "outputs": [],
   "source": [
    "import argparse\n",
    "import datetime\n",
    "import json\n",
    "import random\n",
    "import time\n",
    "from pathlib import Path\n",
    "\n",
    "import numpy as np\n",
    "import torch\n",
    "from torch.utils.data import Dataset, DataLoader, DistributedSampler\n",
    "\n",
    "import datasets\n",
    "import util.misc as utils\n",
    "from datasets import build_dataset, get_coco_api_from_dataset\n",
    "from engine import evaluate, train_one_epoch\n",
    "from models import build_model\n",
    "import torchvision.transforms as T\n",
    "import matplotlib.pyplot as plt\n",
    "import os\n",
    "from PIL import Image\n",
    "import math\n",
    "import torch.nn.functional as F\n",
    "import json\n",
    "from scipy.optimize import linear_sum_assignment\n",
    "import pycocotools.mask as mask_util\n",
    "import re\n",
    "import glob\n",
    "from tqdm.notebook import tqdm\n",
    "import cv2"
   ]
  },
  {
   "cell_type": "code",
   "execution_count": 2,
   "id": "01fb3263",
   "metadata": {},
   "outputs": [
    {
     "data": {
      "text/plain": [
       "'\\nline 32\\nNORMAL WRIST MEDIAN 1.5CM, SEVERE CTS WRIST 1.5CM --> [66:66+448,120:]\\nCTS 1.5CM AND 3CM --> [64:64+448, 287:287+336]\\n\\n'"
      ]
     },
     "execution_count": 2,
     "metadata": {},
     "output_type": "execute_result"
    }
   ],
   "source": [
    "'''\n",
    "line 32\n",
    "NORMAL WRIST MEDIAN 1.5CM, SEVERE CTS WRIST 1.5CM --> [66:66+448,120:]\n",
    "CTS 1.5CM AND 3CM --> [64:64+448, 287:287+336]\n",
    "\n",
    "'''"
   ]
  },
  {
   "cell_type": "code",
   "execution_count": 9,
   "id": "52e0bf0f",
   "metadata": {
    "scrolled": true
   },
   "outputs": [
    {
     "name": "stdout",
     "output_type": "stream",
     "text": [
      "../Dissertation/aster_updated_data_22_01_2022/CTS 1.5CM AND 3CM/001_CTS_20221029_140110\n",
      "../Dissertation/aster_updated_data_22_01_2022/CTS 1.5CM AND 3CM/002_CTS_20221031_132608\n",
      "../Dissertation/aster_updated_data_22_01_2022/CTS 1.5CM AND 3CM/003_CTS_20221031_123034\n",
      "../Dissertation/aster_updated_data_22_01_2022/CTS 1.5CM AND 3CM/003_CTS_20221031_132816\n",
      "../Dissertation/aster_updated_data_22_01_2022/CTS 1.5CM AND 3CM/004_CTS_20221031_133005\n",
      "../Dissertation/aster_updated_data_22_01_2022/CTS 1.5CM AND 3CM/005_CTS_20221031_133239\n",
      "../Dissertation/aster_updated_data_22_01_2022/CTS 1.5CM AND 3CM/006_CTS_20221031_154345\n",
      "../Dissertation/aster_updated_data_22_01_2022/CTS 1.5CM AND 3CM/007_CTS_20221031_154522\n",
      "../Dissertation/aster_updated_data_22_01_2022/CTS 1.5CM AND 3CM/008_CTS_20221107_101319\n",
      "../Dissertation/aster_updated_data_22_01_2022/CTS 1.5CM AND 3CM/009_CTS_20221107_101439\n",
      "../Dissertation/aster_updated_data_22_01_2022/CTS 1.5CM AND 3CM/010_CTS_20221107_101817\n",
      "../Dissertation/aster_updated_data_22_01_2022/CTS 1.5CM AND 3CM/011_CTS_20221109_160052\n",
      "../Dissertation/aster_updated_data_22_01_2022/CTS 1.5CM AND 3CM/012_CTS_20230102_145941\n",
      "../Dissertation/aster_updated_data_22_01_2022/CTS 1.5CM AND 3CM/013_CTS_20221117_150046\n",
      "../Dissertation/aster_updated_data_22_01_2022/CTS 1.5CM AND 3CM/014_CTS_20221029_121636\n",
      "../Dissertation/aster_updated_data_22_01_2022/CTS 1.5CM AND 3CM/015_CTS_20221029_122408\n",
      "../Dissertation/aster_updated_data_22_01_2022/CTS 1.5CM AND 3CM/016_CTS_20220909_142157\n",
      "../Dissertation/aster_updated_data_22_01_2022/CTS 1.5CM AND 3CM/017_CTS_20220909_145053\n",
      "../Dissertation/aster_updated_data_22_01_2022/CTS 1.5CM AND 3CM/018_CTS_20220916_104226\n",
      "../Dissertation/aster_updated_data_22_01_2022/CTS 1.5CM AND 3CM/019_CTS_20220916_130723\n",
      "../Dissertation/aster_updated_data_22_01_2022/CTS 1.5CM AND 3CM/020_CTS_20221029_120813\n",
      "../Dissertation/aster_updated_data_22_01_2022/CTS 1.5CM AND 3CM/021_CTS_20220923_150658\n",
      "../Dissertation/aster_updated_data_22_01_2022/CTS 1.5CM AND 3CM/022_CTS_20220926_142059\n",
      "../Dissertation/aster_updated_data_22_01_2022/CTS 1.5CM AND 3CM/023_CTS_20220926_151147\n",
      "../Dissertation/aster_updated_data_22_01_2022/CTS 1.5CM AND 3CM/024_CTS_20220926_155450\n",
      "../Dissertation/aster_updated_data_22_01_2022/CTS 1.5CM AND 3CM/025_CTS_20220927_142429\n",
      "../Dissertation/aster_updated_data_22_01_2022/CTS 1.5CM AND 3CM/026_CTS_20220927_143046\n",
      "../Dissertation/aster_updated_data_22_01_2022/CTS 1.5CM AND 3CM/027_CTS_20220927_173442\n",
      "../Dissertation/aster_updated_data_22_01_2022/CTS 1.5CM AND 3CM/028_CTS_20221003_134826\n",
      "../Dissertation/aster_updated_data_22_01_2022/CTS 1.5CM AND 3CM/029_CTS_20221003_135645\n",
      "../Dissertation/aster_updated_data_22_01_2022/CTS 1.5CM AND 3CM/030_CTS_20221007_121319\n",
      "../Dissertation/aster_updated_data_22_01_2022/CTS 1.5CM AND 3CM/031_CTS_20221029_120617\n"
     ]
    }
   ],
   "source": [
    "folder_path = sorted(glob.glob(\"../Dissertation/aster_updated_data_22_01_2022/CTS 1.5CM AND 3CM/*\"))\n",
    "\n",
    "for path in folder_path:\n",
    "    file_path = sorted(glob.glob(path+'/*_0001.MP4'))\n",
    "    print(path)\n",
    "    \n",
    "    for file in file_path:\n",
    "    \n",
    "        cam = cv2.VideoCapture(file)\n",
    "        try:\n",
    "            # creating a folder named data\n",
    "            if not os.path.exists(path + '/frames2'):\n",
    "                os.makedirs(path + '/frames2')\n",
    "\n",
    "\n",
    "        # if not created then raise error\n",
    "        except OSError:\n",
    "            print ('Error: Creating directory of data')\n",
    "        # frame\n",
    "        currentframe = 0\n",
    "\n",
    "        while(True):\n",
    "\n",
    "            # reading from frame\n",
    "            ret,frame = cam.read()\n",
    "\n",
    "            if ret:\n",
    "                # if video is still left continue creating images\n",
    "                name = path +'/frames2/' + str(currentframe) + '.jpg'\n",
    "#                 print ('Creating...' + name)\n",
    "\n",
    "                frame = cv2.cvtColor(frame, cv2.COLOR_BGR2GRAY)\n",
    "                frame = frame[66:66+448,120:]\n",
    "#                 frame = frame[64:64+448,287:287+336]\n",
    "                resized = cv2.resize(frame[66:514,120:], (336, 222),\n",
    "                                     interpolation = cv2.INTER_AREA)\n",
    "                empty = np.zeros((448,336))\n",
    "                empty[:222] = resized\n",
    "                \n",
    "                # writing the extracted images\n",
    "                cv2.imwrite(name, empty)\n",
    "#                 cv2.imwrite(name, frame)\n",
    "\n",
    "                # increasing counter so that it will\n",
    "                # show how many frames are created\n",
    "                currentframe += 1\n",
    "\n",
    "            else:\n",
    "                break"
   ]
  },
  {
   "cell_type": "code",
   "execution_count": null,
   "id": "533162c0",
   "metadata": {},
   "outputs": [],
   "source": []
  }
 ],
 "metadata": {
  "kernelspec": {
   "display_name": "Python 3 (ipykernel)",
   "language": "python",
   "name": "python3"
  },
  "language_info": {
   "codemirror_mode": {
    "name": "ipython",
    "version": 3
   },
   "file_extension": ".py",
   "mimetype": "text/x-python",
   "name": "python",
   "nbconvert_exporter": "python",
   "pygments_lexer": "ipython3",
   "version": "3.11.2"
  }
 },
 "nbformat": 4,
 "nbformat_minor": 5
}
