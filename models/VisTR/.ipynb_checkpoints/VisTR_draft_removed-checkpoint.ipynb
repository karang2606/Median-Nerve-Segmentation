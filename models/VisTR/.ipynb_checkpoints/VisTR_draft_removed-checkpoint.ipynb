{
 "cells": [
  {
   "cell_type": "code",
   "execution_count": 1,
   "id": "286fb767",
   "metadata": {
    "scrolled": true
   },
   "outputs": [],
   "source": [
    "from parts import *"
   ]
  },
  {
   "cell_type": "code",
   "execution_count": 2,
   "id": "823395ae",
   "metadata": {
    "scrolled": true
   },
   "outputs": [],
   "source": [
    "import argparse\n",
    "import datetime\n",
    "import json\n",
    "import random\n",
    "import time\n",
    "from pathlib import Path\n",
    "import numpy as np\n",
    "import torch\n",
    "from torch.utils.data import Dataset,DataLoader, DistributedSampler\n",
    "\n",
    "import datasets\n",
    "import util.misc as utils\n",
    "from datasets import build_dataset, get_coco_api_from_dataset\n",
    "from engine import evaluate, train_one_epoch\n",
    "from models import build_model\n",
    "# import torch.nn.functional as F\n",
    "import matplotlib.pyplot as plt\n",
    "from models.segmentation import VisTRsegm\n",
    "import pycocotools.mask as mask_util\n",
    "from util.box_ops import box_xyxy_to_cxcywh\n",
    "##\n",
    "import glob\n",
    "import re\n",
    "import os\n",
    "from torchvision.ops import masks_to_boxes\n",
    "from PIL import Image\n",
    "from tqdm.notebook import tqdm\n",
    "import torchvision.transforms.functional as F\n",
    "from engine import train_one_epoch\n",
    "import datasets.transforms as T"
   ]
  },
  {
   "cell_type": "code",
   "execution_count": 34,
   "id": "bb8ac0b4",
   "metadata": {},
   "outputs": [],
   "source": [
    "def get_args_parser():\n",
    "    parser = argparse.ArgumentParser('Set transformer detector', add_help=False)\n",
    "    parser.add_argument('--lr', default=1e-4, type=float)\n",
    "    parser.add_argument('--lr_backbone', default=1e-5, type=float)\n",
    "    parser.add_argument('--batch_size', default=1, type=int)\n",
    "    parser.add_argument('--weight_decay', default=1e-4, type=float)\n",
    "    parser.add_argument('--epochs', default=18, type=int)\n",
    "    parser.add_argument('--lr_drop', default=12, type=int)\n",
    "    parser.add_argument('--clip_max_norm', default=0.1, type=float,\n",
    "                        help='gradient clipping max norm')\n",
    "\n",
    "    # Model parameters\n",
    "    parser.add_argument('--pretrained_weights', type=str, default=\"r101_pretrained.pth\",\n",
    "                        help=\"Path to the pretrained model.\")\n",
    "    # * Backbone\n",
    "    parser.add_argument('--backbone', default='resnet101', type=str,\n",
    "                        help=\"Name of the convolutional backbone to use\")\n",
    "    parser.add_argument('--dilation', action='store_true',\n",
    "                        help=\"If true, we replace stride with dilation in the last convolutional block (DC5)\")\n",
    "    parser.add_argument('--position_embedding', default='sine', type=str, choices=('sine', 'learned'),\n",
    "                        help=\"Type of positional embedding to use on top of the image features\")\n",
    "\n",
    "    # * Transformer\n",
    "    parser.add_argument('--enc_layers', default=6, type=int,\n",
    "                        help=\"Number of encoding layers in the transformer\")\n",
    "    parser.add_argument('--dec_layers', default=6, type=int,\n",
    "                        help=\"Number of decoding layers in the transformer\")\n",
    "    parser.add_argument('--dim_feedforward', default=2048, type=int,\n",
    "                        help=\"Intermediate size of the feedforward layers in the transformer blocks\")\n",
    "    parser.add_argument('--hidden_dim', default=384, type=int,\n",
    "                        help=\"Size of the embeddings (dimension of the transformer)\")\n",
    "    parser.add_argument('--dropout', default=0.1, type=float,\n",
    "                        help=\"Dropout applied in the transformer\")\n",
    "    parser.add_argument('--nheads', default=8, type=int,\n",
    "                        help=\"Number of attention heads inside the transformer's attentions\")\n",
    "    parser.add_argument('--num_frames', default=36, type=int,\n",
    "                        help=\"Number of frames\")\n",
    "    parser.add_argument('--num_queries', default=36, type=int,\n",
    "                        help=\"Number of query slots\")\n",
    "    parser.add_argument('--pre_norm', action='store_true')\n",
    "\n",
    "    # * Segmentation\n",
    "    parser.add_argument('--masks', action='store_true',\n",
    "                        help=\"Train segmentation head if the flag is provided\")\n",
    "\n",
    "    # Loss\n",
    "    parser.add_argument('--no_aux_loss', dest='aux_loss', action='store_false',\n",
    "                        help=\"Disables auxiliary decoding losses (loss at each layer)\")\n",
    "    parser.add_argument('--no_labels_loss', dest='labels_loss', action='store_false',\n",
    "                        help=\"Enables labels losses\")\n",
    "    parser.add_argument('--no_boxes_loss', dest='boxes_loss', action='store_false',\n",
    "                        help=\"Enables bounding box losses\")\n",
    "    parser.add_argument('--no_L1_loss', dest='L1_loss', action='store_false',\n",
    "                        help=\"Enables L1 losses for bboxes\")\n",
    "    parser.add_argument('--no_giou_loss', dest='giou_loss', action='store_false',\n",
    "                        help=\"Enables Generalized IOU losses for bboxes\")\n",
    "    parser.add_argument('--no_focal_loss', dest='focal_loss', action='store_false',\n",
    "                        help=\"Enables Focal losses for mask\")\n",
    "    parser.add_argument('--no_dice_loss', dest='dice_loss', action='store_false',\n",
    "                        help=\"Enables dice losses for mask\")\n",
    "    # * Matcher\n",
    "    parser.add_argument('--set_cost_class', default=1, type=float,\n",
    "                        help=\"Class coefficient in the matching cost\")\n",
    "    parser.add_argument('--set_cost_bbox', default=5, type=float,\n",
    "                        help=\"L1 box coefficient in the matching cost\")\n",
    "    parser.add_argument('--set_cost_giou', default=2, type=float,\n",
    "                        help=\"giou box coefficient in the matching cost\")\n",
    "    # * Loss coefficients\n",
    "    parser.add_argument('--mask_loss_coef', default=1, type=float)\n",
    "    parser.add_argument('--dice_loss_coef', default=1, type=float)\n",
    "    parser.add_argument('--bbox_loss_coef', default=5, type=float)\n",
    "    parser.add_argument('--giou_loss_coef', default=2, type=float)\n",
    "    parser.add_argument('--eos_coef', default=0.1, type=float,\n",
    "                        help=\"Relative classification weight of the no-object class\")\n",
    "\n",
    "    # dataset parameters\n",
    "    parser.add_argument('--dataset_file', default='ytvos')\n",
    "    parser.add_argument('--ytvos_path', type=str)\n",
    "    parser.add_argument('--remove_difficult', action='store_true')\n",
    "\n",
    "    parser.add_argument('--output_dir', default='r101_vistr',\n",
    "                        help='path where to save, empty for no saving')\n",
    "    parser.add_argument('--device', default='cuda',\n",
    "                        help='device to use for training / testing')\n",
    "    parser.add_argument('--seed', default=42, type=int)\n",
    "    parser.add_argument('--resume', default='', help='resume from checkpoint')\n",
    "    parser.add_argument('--start_epoch', default=0, type=int, metavar='N',\n",
    "                        help='start epoch')\n",
    "    parser.add_argument('--eval', action='store_true')\n",
    "    parser.add_argument('--num_workers', default=4, type=int)\n",
    "\n",
    "    # distributed training parameters\n",
    "    parser.add_argument('--world_size', default=1, type=int,\n",
    "                        help='number of distributed processes')\n",
    "    parser.add_argument('--dist_url', default='env://', help='url used to set up distributed training')\n",
    "    return parser"
   ]
  },
  {
   "cell_type": "code",
   "execution_count": 4,
   "id": "1a012f65",
   "metadata": {},
   "outputs": [],
   "source": [
    "pat=re.compile(\"(\\d+)\\D*$\")\n",
    "\n",
    "def key_func(x):\n",
    "    mat=pat.search(os.path.split(x)[-1]) # match last group of digits\n",
    "    if mat is None:\n",
    "        return x\n",
    "    return \"{:>10}\".format(mat.group(1)) # right align to 10 digits\n",
    "\n",
    "# train_file_dir = glob.glob('./aster_updated_data_22_01_2022/Train/*')\n",
    "train_file_dir = glob.glob('../Dissertation/aster_updated_data_22_01_2022/Train/*')\n",
    "\n",
    "n_frames = 36\n",
    "\n",
    "train_image_list = []\n",
    "train_mask_list = []\n",
    "\n",
    "for path in train_file_dir:\n",
    "    frames = sorted(glob.glob(path+'/*_0001_IMAGES/images/*.jpg'), key=key_func)\n",
    "    masks = sorted(glob.glob(path+'/*_0001_IMAGES/masks/*.png'), key=key_func)\n",
    "\n",
    "#     for i in range(35):\n",
    "    for i in range(len(frames)-n_frames+1):\n",
    "        train_image_list.append(frames[i:i+n_frames])\n",
    "        train_mask_list.append(masks[i:i+n_frames])\n",
    "#         train_mask_list.append(masks[i+n_frames-1])\n",
    "        \n",
    "test_file_dir = glob.glob('../Dissertation/aster_updated_data_22_01_2022/Test/*')\n",
    "test_image_list = []\n",
    "test_mask_list = []\n",
    "\n",
    "for path in test_file_dir:\n",
    "    frames = sorted(glob.glob(path+'/*_0001_IMAGES/images/*.jpg'), key=key_func)\n",
    "    masks = sorted(glob.glob(path+'/*_0001_IMAGES/masks/*.png'), key=key_func)\n",
    "\n",
    "#     for i in range(35):\n",
    "    for i in range(len(frames)-n_frames+1):\n",
    "        test_image_list.append(frames[i:i+n_frames])\n",
    "        test_mask_list.append(masks[i:i+n_frames])\n",
    "#         test_mask_list.append(masks[i+n_frames-1])      "
   ]
  },
  {
   "cell_type": "code",
   "execution_count": 5,
   "id": "683c1ba5",
   "metadata": {},
   "outputs": [],
   "source": [
    "def make_transform(image_set):\n",
    "    normalize = T.Compose([\n",
    "        T.ToTensor(),\n",
    "        T.Normalize([0.2316], [0.2038]) #mean #standard deviation\n",
    "    ])\n",
    "    if image_set == 'train':\n",
    "        return T.Compose([\n",
    "            T.RandomHorizontalFlip(),\n",
    "            normalize,\n",
    "        ])\n",
    "\n",
    "    if image_set == 'val':\n",
    "        return T.Compose([normalize])"
   ]
  },
  {
   "cell_type": "code",
   "execution_count": 6,
   "id": "bb8955d8",
   "metadata": {},
   "outputs": [],
   "source": [
    "def get_bbox(mask_list):\n",
    "    return torch.cat([masks_to_boxes(mask) for mask in mask_list], dim=0)        "
   ]
  },
  {
   "cell_type": "code",
   "execution_count": 7,
   "id": "490c9106",
   "metadata": {},
   "outputs": [],
   "source": [
    "class ImagePathDataset(Dataset):\n",
    "    def __init__(self, image_path, mask_path, n_frames, transform=None):\n",
    "        self.image_path = image_path\n",
    "        self.mask_path = mask_path\n",
    "        self.n_frames = n_frames\n",
    "        self.transform = transform\n",
    "        \n",
    "\n",
    "    def __len__(self):\n",
    "        return len(self.image_path)\n",
    "\n",
    "    def __getitem__(self, idx):\n",
    "        \n",
    "        image = [Image.open(self.image_path[idx][i]) for i in range(self.n_frames)]\n",
    "        mask = [F.to_tensor(Image.open(self.mask_path[idx][i]))\n",
    "                for i in range(self.n_frames)]\n",
    "        \n",
    "        target = {}\n",
    "        target['labels'] = torch.ones(36).long()\n",
    "        target['valid'] = torch.ones(36).long()\n",
    "        target['masks'] = torch.cat(mask, dim=0)\n",
    "        target['boxes'] = get_bbox(mask)\n",
    "        \n",
    "        if self.transform is not None:\n",
    "            image, target = self.transform(image, target)\n",
    "        \n",
    "        image = [img.repeat(3,1,1) for img in image]\n",
    "            \n",
    "        return torch.cat(image,dim=0), target"
   ]
  },
  {
   "cell_type": "code",
   "execution_count": 13,
   "id": "3863c36b",
   "metadata": {},
   "outputs": [],
   "source": [
    "def main():\n",
    "    parser = argparse.ArgumentParser('VisTR training and evaluation script',\n",
    "                                     parents=[get_args_parser()])\n",
    "    args = parser.parse_args(cmd_line.split())\n",
    "    args\n",
    "    if args.output_dir:\n",
    "        Path(args.output_dir).mkdir(parents=True, exist_ok=True)\n",
    "    device = torch.device(args.device)\n",
    "    device\n",
    "    utils.init_distributed_mode(args)\n",
    "    # print(\"git:\\n  {}\\n\".format(utils.get_sha()))\n",
    "    device = torch.device(args.device)\n",
    "\n",
    "    # fix the seed for reproducibility\n",
    "    seed = args.seed + utils.get_rank()\n",
    "    torch.manual_seed(seed)\n",
    "    np.random.seed(seed)\n",
    "    random.seed(seed)\n",
    "\n",
    "    model, criterion, postprocessors = build_model(args)\n",
    "    model.to(device)\n",
    "\n",
    "    model_without_ddp = model\n",
    "    if args.distributed:\n",
    "        model = torch.nn.parallel.DistributedDataParallel(model, device_ids=[args.gpu])\n",
    "        model_without_ddp = model.module\n",
    "    n_parameters = sum(p.numel() for p in model.parameters() if p.requires_grad)\n",
    "    print('number of params:', n_parameters)\n",
    "\n",
    "    param_dicts = [\n",
    "        {\"params\": [p for n, p in model_without_ddp.named_parameters() if \"backbone\" not in n and p.requires_grad]},\n",
    "        {\n",
    "            \"params\": [p for n, p in model_without_ddp.named_parameters() if \"backbone\" in n and p.requires_grad],\n",
    "            \"lr\": args.lr_backbone,\n",
    "        },\n",
    "    ]\n",
    "    optimizer = torch.optim.AdamW(param_dicts, lr=args.lr,\n",
    "                                  weight_decay=args.weight_decay)\n",
    "    lr_scheduler = torch.optim.lr_scheduler.StepLR(optimizer, args.lr_drop)\n",
    "\n",
    "    # no validation ground truth for ytvos dataset\n",
    "    dataset_train = ImagePathDataset(train_image_list, train_mask_list,\n",
    "                                     n_frames, transform=make_transform(image_set='train'))\n",
    "    if args.distributed:\n",
    "        sampler_train = DistributedSampler(dataset_train)\n",
    "    else:\n",
    "        sampler_train = torch.utils.data.RandomSampler(dataset_train)\n",
    "\n",
    "    batch_sampler_train = torch.utils.data.BatchSampler(\n",
    "        sampler_train, args.batch_size, drop_last=True)\n",
    "\n",
    "    data_loader_train = DataLoader(dataset_train, batch_sampler=batch_sampler_train,\n",
    "                                   collate_fn=utils.collate_fn, num_workers=args.num_workers)\n",
    "\n",
    "    output_dir = Path(args.output_dir)\n",
    "\n",
    "    print(\"Start training\")\n",
    "    start_time = time.time()\n",
    "    for epoch in range(args.start_epoch, args.epochs):\n",
    "        if args.distributed:\n",
    "            sampler_train.set_epoch(epoch)\n",
    "        train_stats = train_one_epoch(\n",
    "            model, criterion, data_loader_train, optimizer, device, epoch,\n",
    "            args.clip_max_norm)\n",
    "        lr_scheduler.step()\n",
    "        if args.output_dir:\n",
    "            checkpoint_paths = [output_dir / 'checkpoint.pth']\n",
    "            # extra checkpoint before LR drop and every epochs\n",
    "            if (epoch + 1) % args.lr_drop == 0 or (epoch + 1) % 1 == 0:\n",
    "                checkpoint_paths.append(output_dir / f'checkpoint{epoch:04}.pth')\n",
    "            for checkpoint_path in checkpoint_paths:\n",
    "                utils.save_on_master({\n",
    "                    'model': model_without_ddp.state_dict(),\n",
    "                    'optimizer': optimizer.state_dict(),\n",
    "                    'lr_scheduler': lr_scheduler.state_dict(),\n",
    "                    'epoch': epoch,\n",
    "                    'args': args,\n",
    "                }, checkpoint_path)"
   ]
  },
  {
   "cell_type": "code",
   "execution_count": 16,
   "id": "d5291df7",
   "metadata": {},
   "outputs": [
    {
     "name": "stderr",
     "output_type": "stream",
     "text": [
      "usage: VisTR training and evaluation script [-h] [--lr LR]\n",
      "                                            [--lr_backbone LR_BACKBONE]\n",
      "                                            [--batch_size BATCH_SIZE]\n",
      "                                            [--weight_decay WEIGHT_DECAY]\n",
      "                                            [--epochs EPOCHS]\n",
      "                                            [--lr_drop LR_DROP]\n",
      "                                            [--clip_max_norm CLIP_MAX_NORM]\n",
      "                                            [--pretrained_weights PRETRAINED_WEIGHTS]\n",
      "                                            [--backbone BACKBONE] [--dilation]\n",
      "                                            [--position_embedding {sine,learned}]\n",
      "                                            [--enc_layers ENC_LAYERS]\n",
      "                                            [--dec_layers DEC_LAYERS]\n",
      "                                            [--dim_feedforward DIM_FEEDFORWARD]\n",
      "                                            [--hidden_dim HIDDEN_DIM]\n",
      "                                            [--dropout DROPOUT]\n",
      "                                            [--nheads NHEADS]\n",
      "                                            [--num_frames NUM_FRAMES]\n",
      "                                            [--num_queries NUM_QUERIES]\n",
      "                                            [--pre_norm] [--masks]\n",
      "                                            [--no_aux_loss] [--labels_loss]\n",
      "                                            [--boxes_loss] [--L1_loss]\n",
      "                                            [--giou_loss] [--focal_loss]\n",
      "                                            [--dice_loss]\n",
      "                                            [--set_cost_class SET_COST_CLASS]\n",
      "                                            [--set_cost_bbox SET_COST_BBOX]\n",
      "                                            [--set_cost_giou SET_COST_GIOU]\n",
      "                                            [--mask_loss_coef MASK_LOSS_COEF]\n",
      "                                            [--dice_loss_coef DICE_LOSS_COEF]\n",
      "                                            [--bbox_loss_coef BBOX_LOSS_COEF]\n",
      "                                            [--giou_loss_coef GIOU_LOSS_COEF]\n",
      "                                            [--eos_coef EOS_COEF]\n",
      "                                            [--dataset_file DATASET_FILE]\n",
      "                                            [--ytvos_path YTVOS_PATH]\n",
      "                                            [--remove_difficult]\n",
      "                                            [--output_dir OUTPUT_DIR]\n",
      "                                            [--device DEVICE] [--seed SEED]\n",
      "                                            [--resume RESUME]\n",
      "                                            [--start_epoch N] [--eval]\n",
      "                                            [--num_workers NUM_WORKERS]\n",
      "                                            [--world_size WORLD_SIZE]\n",
      "                                            [--dist_url DIST_URL]\n",
      "VisTR training and evaluation script: error: unrecognized arguments: False\n"
     ]
    },
    {
     "ename": "SystemExit",
     "evalue": "2",
     "output_type": "error",
     "traceback": [
      "An exception has occurred, use %tb to see the full traceback.\n",
      "\u001b[0;31mSystemExit\u001b[0m\u001b[0;31m:\u001b[0m 2\n"
     ]
    }
   ],
   "source": [
    "if __name__ == '__main__':\n",
    "    main()"
   ]
  },
  {
   "cell_type": "code",
   "execution_count": null,
   "id": "8f6bd935",
   "metadata": {},
   "outputs": [],
   "source": [
    "'''\n",
    "python VisTR.py --output_dir r101_vistr/no_label_loss --no_labels_loss\n",
    "'''"
   ]
  },
  {
   "cell_type": "code",
   "execution_count": 45,
   "id": "6a3346f5",
   "metadata": {},
   "outputs": [],
   "source": [
    "cmd_line =\"--output_dir r101_vistr/no_label_loss --no_labels_loss \""
   ]
  },
  {
   "cell_type": "code",
   "execution_count": 46,
   "id": "cf3c5c85",
   "metadata": {},
   "outputs": [],
   "source": [
    "parser = argparse.ArgumentParser('VisTR training and evaluation script',\n",
    "                                 parents=[get_args_parser()])\n",
    "args = parser.parse_args(cmd_line.split())\n",
    "args\n",
    "if args.output_dir:\n",
    "    Path(args.output_dir).mkdir(parents=True, exist_ok=True)\n",
    "\n",
    "# # args.pretrained_weights = 'pretrained/r101.pth'\n",
    "# args.masks = True\n",
    "# args.device = 'cuda:1'\n",
    "# args.enc_layers = 3\n",
    "# args.dec_layers = 3\n",
    "# args.dim_feedforward = 1024\n",
    "# args.hidden_dim = 256\n",
    "# args.nheads = 8"
   ]
  },
  {
   "cell_type": "code",
   "execution_count": 47,
   "id": "bdd97b5d",
   "metadata": {},
   "outputs": [
    {
     "data": {
      "text/plain": [
       "False"
      ]
     },
     "execution_count": 47,
     "metadata": {},
     "output_type": "execute_result"
    }
   ],
   "source": [
    "args.labels_loss"
   ]
  },
  {
   "cell_type": "code",
   "execution_count": 12,
   "id": "bfd27f7a",
   "metadata": {},
   "outputs": [
    {
     "data": {
      "text/plain": [
       "'r101_vistr'"
      ]
     },
     "execution_count": 12,
     "metadata": {},
     "output_type": "execute_result"
    }
   ],
   "source": [
    "args.output_dir = 'r101_vistr/'"
   ]
  },
  {
   "cell_type": "code",
   "execution_count": null,
   "id": "b2a4c46d",
   "metadata": {
    "scrolled": true
   },
   "outputs": [],
   "source": [
    "print(args)"
   ]
  },
  {
   "cell_type": "code",
   "execution_count": null,
   "id": "741bc28f",
   "metadata": {},
   "outputs": [],
   "source": [
    "python VisTR.py --output_dir r101_vistr/no_label_loss --labels_loss False"
   ]
  },
  {
   "cell_type": "code",
   "execution_count": null,
   "id": "c787bdd4",
   "metadata": {},
   "outputs": [],
   "source": [
    "device = torch.device(args.device)\n",
    "device"
   ]
  },
  {
   "cell_type": "code",
   "execution_count": null,
   "id": "daa8c8ec",
   "metadata": {},
   "outputs": [],
   "source": [
    "args.dice_loss"
   ]
  },
  {
   "cell_type": "code",
   "execution_count": null,
   "id": "8b1f9dc9",
   "metadata": {},
   "outputs": [],
   "source": [
    "utils.init_distributed_mode(args)\n",
    "# print(\"git:\\n  {}\\n\".format(utils.get_sha()))\n",
    "device = torch.device(args.device)\n",
    "\n",
    "# fix the seed for reproducibility\n",
    "seed = args.seed + utils.get_rank()\n",
    "torch.manual_seed(seed)\n",
    "np.random.seed(seed)\n",
    "random.seed(seed)\n",
    "\n",
    "model, criterion, postprocessors = build_model(args)\n",
    "model.to(device)\n",
    "\n",
    "model_without_ddp = model\n",
    "if args.distributed:\n",
    "    model = torch.nn.parallel.DistributedDataParallel(model, device_ids=[args.gpu])\n",
    "    model_without_ddp = model.module\n",
    "n_parameters = sum(p.numel() for p in model.parameters() if p.requires_grad)\n",
    "print('number of params:', n_parameters)\n",
    "\n",
    "param_dicts = [\n",
    "    {\"params\": [p for n, p in model_without_ddp.named_parameters() if \"backbone\" not in n and p.requires_grad]},\n",
    "    {\n",
    "        \"params\": [p for n, p in model_without_ddp.named_parameters() if \"backbone\" in n and p.requires_grad],\n",
    "        \"lr\": args.lr_backbone,\n",
    "    },\n",
    "]\n",
    "optimizer = torch.optim.AdamW(param_dicts, lr=args.lr,\n",
    "                              weight_decay=args.weight_decay)\n",
    "lr_scheduler = torch.optim.lr_scheduler.StepLR(optimizer, args.lr_drop)\n",
    "\n"
   ]
  },
  {
   "cell_type": "code",
   "execution_count": null,
   "id": "b3b69621",
   "metadata": {},
   "outputs": [],
   "source": [
    "# import torch\n",
    "# import torch.utils.data\n",
    "# import torchvision\n",
    "# from pycocotools.ytvos import YTVOS\n",
    "# from pycocotools.ytvoseval import YTVOSeval\n",
    "# import datasets.transforms as T\n",
    "# from pycocotools import mask as coco_mask\n",
    "# import os\n",
    "# from PIL import Image\n",
    "# from random import randint\n",
    "# import cv2\n",
    "# import random"
   ]
  },
  {
   "cell_type": "code",
   "execution_count": null,
   "id": "cdba3622",
   "metadata": {},
   "outputs": [],
   "source": [
    "# # load coco pretrained weight\n",
    "# checkpoint = torch.load(args.pretrained_weights, map_location='cpu')['model']\n",
    "# del checkpoint[\"vistr.class_embed.weight\"]\n",
    "# del checkpoint[\"vistr.class_embed.bias\"]\n",
    "# del checkpoint[\"vistr.query_embed.weight\"]\n",
    "# model.load_state_dict(checkpoint,strict=False)\n",
    "\n",
    "# args.resume = 'r101_vistr/checkpoint0006.pth'\n",
    "# if args.resume:\n",
    "#     if args.resume.startswith('https'):\n",
    "#         checkpoint = torch.hub.load_state_dict_from_url(\n",
    "#             args.resume, map_location='cpu', check_hash=True)\n",
    "#     else:\n",
    "#         checkpoint = torch.load(args.resume, map_location='cpu')\n",
    "#     model_without_ddp.load_state_dict(checkpoint['model'])\n",
    "#     if not args.eval and 'optimizer' in checkpoint and 'lr_scheduler' in checkpoint and 'epoch' in checkpoint:\n",
    "#         optimizer.load_state_dict(checkpoint['optimizer'])\n",
    "#         lr_scheduler.load_state_dict(checkpoint['lr_scheduler'])\n",
    "#         args.start_epoch = checkpoint['epoch'] + 1"
   ]
  },
  {
   "cell_type": "code",
   "execution_count": null,
   "id": "8ba6dace",
   "metadata": {
    "scrolled": true
   },
   "outputs": [],
   "source": [
    "# no validation ground truth for ytvos dataset\n",
    "dataset_train = ImagePathDataset(train_image_list, train_mask_list,\n",
    "                                 n_frames, transform=make_transform(image_set='train'))\n",
    "if args.distributed:\n",
    "    sampler_train = DistributedSampler(dataset_train)\n",
    "else:\n",
    "    sampler_train = torch.utils.data.RandomSampler(dataset_train)\n",
    "\n",
    "batch_sampler_train = torch.utils.data.BatchSampler(\n",
    "    sampler_train, args.batch_size, drop_last=True)\n",
    "\n",
    "data_loader_train = DataLoader(dataset_train, batch_sampler=batch_sampler_train,\n",
    "                               collate_fn=utils.collate_fn, num_workers=args.num_workers)\n",
    "\n",
    "output_dir = Path(args.output_dir)"
   ]
  },
  {
   "cell_type": "code",
   "execution_count": null,
   "id": "71aa51d5",
   "metadata": {},
   "outputs": [],
   "source": [
    "criterion"
   ]
  },
  {
   "cell_type": "code",
   "execution_count": null,
   "id": "268eb5b3",
   "metadata": {},
   "outputs": [],
   "source": [
    "image, target = dataset_train[0]\n",
    "target['boxes'].size()"
   ]
  },
  {
   "cell_type": "code",
   "execution_count": null,
   "id": "770fc832",
   "metadata": {},
   "outputs": [],
   "source": [
    "torch.max(image)"
   ]
  },
  {
   "cell_type": "code",
   "execution_count": null,
   "id": "4e3afd45",
   "metadata": {},
   "outputs": [],
   "source": [
    "for samples, targets in data_loader_train:\n",
    "#     print(samples)\n",
    "    break"
   ]
  },
  {
   "cell_type": "code",
   "execution_count": null,
   "id": "8bbe5d7c",
   "metadata": {},
   "outputs": [],
   "source": [
    "out = model(samples.to(device))"
   ]
  },
  {
   "cell_type": "code",
   "execution_count": null,
   "id": "b24e9c43",
   "metadata": {},
   "outputs": [],
   "source": [
    "out['pred_masks'].size()"
   ]
  },
  {
   "cell_type": "code",
   "execution_count": null,
   "id": "4d4c6a4c",
   "metadata": {
    "scrolled": true
   },
   "outputs": [],
   "source": [
    "print(\"Start training\")\n",
    "start_time = time.time()\n",
    "for epoch in range(args.start_epoch, args.epochs):\n",
    "    if args.distributed:\n",
    "        sampler_train.set_epoch(epoch)\n",
    "    train_stats = train_one_epoch(\n",
    "        model, criterion, data_loader_train, optimizer, device, epoch,\n",
    "        args.clip_max_norm)\n",
    "    lr_scheduler.step()\n",
    "    if args.output_dir:\n",
    "        checkpoint_paths = [output_dir / 'checkpoint.pth']\n",
    "        # extra checkpoint before LR drop and every epochs\n",
    "        if (epoch + 1) % args.lr_drop == 0 or (epoch + 1) % 1 == 0:\n",
    "            checkpoint_paths.append(output_dir / f'checkpoint{epoch:04}.pth')\n",
    "        for checkpoint_path in checkpoint_paths:\n",
    "            utils.save_on_master({\n",
    "                'model': model_without_ddp.state_dict(),\n",
    "                'optimizer': optimizer.state_dict(),\n",
    "                'lr_scheduler': lr_scheduler.state_dict(),\n",
    "                'epoch': epoch,\n",
    "                'args': args,\n",
    "            }, checkpoint_path)"
   ]
  },
  {
   "cell_type": "code",
   "execution_count": null,
   "id": "165a891d",
   "metadata": {},
   "outputs": [],
   "source": [
    "x=[1,2,3,6,11,26, 51, 95]\n",
    "y_agc_time = [ 5.19, 6.15, 6.45, 9.22, 12.49, 22.53, 40.15, 72.37]\n",
    "y_my_time=np.array([3,30.3,34.3,48.3,72.3,145.3,276.3,498.3]) \n",
    "y_general_time = np.array(x)*10.87\n",
    "plt.plot(x,y_my_time,marker = 'o', label ='Our tool')\n",
    "plt.plot(x,y_agc_time,marker = '*', label ='AGC')\n",
    "plt.plot(x,y_general_time,marker = '^', label ='gzip')\n",
    "plt.grid()\n",
    "plt.xlabel('No. of sequences', fontsize=12)\n",
    "plt.ylabel('Compression time (min)', fontsize=12)\n",
    "plt.legend()\n",
    "# plt.xticks(x)\n",
    "# plt.yticks(y)\n",
    "plt.show()"
   ]
  },
  {
   "cell_type": "code",
   "execution_count": null,
   "id": "a46ff35a",
   "metadata": {},
   "outputs": [],
   "source": [
    "2.97*1024"
   ]
  },
  {
   "cell_type": "code",
   "execution_count": null,
   "id": "d222800e",
   "metadata": {},
   "outputs": [],
   "source": [
    "x=[1,2,3,6,11,26,51,95]\n",
    "y_agc_size=np.array([673, 704, 723, 764, 802, 904, 1126, 1433.6])/1024\n",
    "y_my_size = np.array([679, 1147, 1394, 1674, 1872, 2305, 3010, 5221])/1024\n",
    "y_general_time = np.array([1,2,3,6,11,26,51,95])\n",
    "plt.plot(x,y_my_size, marker = 'o', label ='Our tool')\n",
    "plt.plot(x,y_agc_size, marker = '*', label ='AGC')\n",
    "plt.plot(x,y_general_time, marker = '^', label ='gzip')\n",
    "plt.grid()\n",
    "plt.xlabel('No. of sequences', fontsize=12)\n",
    "plt.ylabel('Size of archive (GB)', fontsize=12)\n",
    "plt.legend()\n",
    "\n",
    "# plt.xticks(x)\n",
    "# plt.yticks(y)\n",
    "plt.show()"
   ]
  },
  {
   "cell_type": "code",
   "execution_count": null,
   "id": "0239d196",
   "metadata": {},
   "outputs": [],
   "source": [
    "# Using readlines()\n",
    "c=0\n",
    "number=95\n",
    "s = \"/usr/bin/time ./agc create -t 1 \"\n",
    "with open(\"../names.txt\",\"r\") as f:\n",
    "    for line in f:\n",
    "        l=line.split()\n",
    "        if c<number:\n",
    "            s=s+\"./decompressed/\"+l[0]+\".fa \"\n",
    "            c+=1\n",
    "s=s+\"> \"+ str(number)+\".agc\"\n",
    "print(s)"
   ]
  },
  {
   "cell_type": "code",
   "execution_count": null,
   "id": "9b5b9b0b",
   "metadata": {},
   "outputs": [],
   "source": []
  }
 ],
 "metadata": {
  "history": [],
  "kernelspec": {
   "display_name": "Python 3 (ipykernel)",
   "language": "python",
   "name": "python3"
  },
  "language_info": {
   "codemirror_mode": {
    "name": "ipython",
    "version": 3
   },
   "file_extension": ".py",
   "mimetype": "text/x-python",
   "name": "python",
   "nbconvert_exporter": "python",
   "pygments_lexer": "ipython3",
   "version": "3.11.2"
  }
 },
 "nbformat": 4,
 "nbformat_minor": 5
}
